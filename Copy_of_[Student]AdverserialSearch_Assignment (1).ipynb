{
  "nbformat": 4,
  "nbformat_minor": 0,
  "metadata": {
    "colab": {
      "provenance": []
    },
    "kernelspec": {
      "name": "python3",
      "display_name": "Python 3"
    },
    "language_info": {
      "name": "python"
    }
  },
  "cells": [
    {
      "cell_type": "markdown",
      "source": [
        "# Welcome to NimWorld! 🌲\n",
        "\n",
        "One important application of AI is in gaming, which is the perfect place to test out our **adverserial search** algorithms. In this assignment, you will be creating a game world and implementing the **minimax** algorithm. The assignment has three parts with the following point values:\n",
        "\n",
        "\n",
        "\n",
        "*   Implementing NimWorld! [25 pts]\n",
        "*   NimWorld Minimax Algorithm [40 pts]\n",
        "* NimWorld Minimax Algorithm Alpha-Beta Pruning [35 pts]\n",
        "\n",
        "Please work through the assignment one part at a time! Each part builds off of the previous one, so make sure that it's implemented before you move on. Before you begin to work, please read the ENTIRE assignment first to get a good feel of what to expect, including outputs.**If you need help,** we have provided some resources **at the bottom of the assignment**.\n",
        "\n"
      ],
      "metadata": {
        "id": "nv5GyqtJrB3V"
      }
    },
    {
      "cell_type": "markdown",
      "source": [
        "## What is \"nim\"?\n",
        "\n",
        "<img src=\"https://pbs.twimg.com/media/EZwm7xYXgAAbTHW?format=jpg&name=4096x4096\" width=500 />\n",
        "\n",
        "[You can take a look on Wikipedia](https://en.wikipedia.org/wiki/Nim#:~:text=Nim%20is%20a%20mathematical%20game,the%20same%20heap%20or%20pile.) to get a detailed explanation of the game, but basically, two players are given a few piles of objects (we'll use sticks for our game), and players take turns removing any desired number of sticks from any pile until none are left. There are a few versions of the game, but in our version, the player who takes the last stick is deemed the loser. The point of the game is to strategically remove sticks to ensure that the other person is forced to choose the last stick! For example, if we start off with a pile that has two-subpiles of 5 and 3 sticks each (represented in a list as [5,3]) the player can choose whether to take sticks from the first (represented by index 0) or second pile (represented by index 1), and can choose how many sticks to remove. Let's say our player removes 3 from the first pile! That leaves us with a pile of [2,3] sticks, when we originally had [5,3]. Check [this link](https://www.archimedes-lab.org/game_nim/nim.html#) if you want to play the game.\n",
        "\n",
        "How can we train an intelligent agent to select the best move given a player's move? If a player removes a certain amount of sticks from a certain pile, which pile should the agent choose? How many sticks should the agent remove frm that pile? While there are complicated strategies behind nim that can optimize the best moves based on the XOR sum, we will implement a basic minimax algorithm for a game with only use two piles, represented by a list with two elements representing two piles of sticks **``pile = [numberOfSticks0, numberOfSticks1]``**."
      ],
      "metadata": {
        "id": "tuehXkLsrWbb"
      }
    },
    {
      "cell_type": "markdown",
      "source": [
        "## How do we structure the NimWorld game?"
      ],
      "metadata": {
        "id": "a5nfU7NuTsOV"
      }
    },
    {
      "cell_type": "markdown",
      "source": [
        "In the cell below, we have defined an abstract class called NimWorldAdversarial as our starting point. This class defines the major functions that all of the subclasses of NimWorldAdversarial will contain and outlines the features you will need to develop.\n",
        "We will have three subclasses:\n",
        "*   NimWorldBasic(NimWorldAdversarial)\n",
        "  * implements the basic game functionality between two players, the computer and the human user playing the game.\n",
        "  * in this class, both user and computer moves will be inputted by the user.\n",
        "  * we must ask the player to select which pile they want to remove from (pile 0 or 1) and how many sticks they want to remove (the number of sticks can be no less than 1 or greater than the number of sticks in that pile).\n",
        "*   NimWorldMinimax(NimWorldBasic)\n",
        "  * Implements the minimax algorithm logic. NimWorldMinimax will inherit many functions from NimWorldBasic, but we will need to add a minimax function and override the function that specifies the computer's move.\n",
        "* NimWorldABMinimax(NimWorldMinimax)\n",
        "  * NimWorldABMinimax will inherit many functions from NimWorldMinimax, but we need to override the minimax function and the computer move function to allow the implementation of alpha-beta pruning.\n",
        "\n",
        "  Now that we've gone over the basics, take a look at our NimWorldAdversarial class! While you won't be making any modifications here, your subclasses will follow this structure."
      ],
      "metadata": {
        "id": "5TYlHXOdTxqO"
      }
    },
    {
      "cell_type": "code",
      "source": [
        "from abc import ABC, abstractmethod\n",
        "class NimWorldAdversarial(ABC):\n",
        "\n",
        "  def __init__(self, pile):\n",
        "    '''\n",
        "    Initializes the game stick pile as a list.\n",
        "\n",
        "    - pile: The pile will contains two sub-piles of sticks, referred to as pile 0 and pile 1.\n",
        "    '''\n",
        "    self.pile = pile\n",
        "\n",
        "  @abstractmethod\n",
        "  def userMove(self):\n",
        "    '''\n",
        "    Defines the user's move.\n",
        "    '''\n",
        "    pass\n",
        "\n",
        "  @abstractmethod\n",
        "  def checkWin(self, pile):\n",
        "    '''\n",
        "    Checks if someone has won the game.\n",
        "    Requires the pile argument.\n",
        "    Returns True or False.\n",
        "    '''\n",
        "    pass\n",
        "\n",
        "  @abstractmethod\n",
        "  def computerMove(self):\n",
        "    '''\n",
        "    Defines the computer's move.\n",
        "    '''\n",
        "    pass\n",
        "\n",
        "  @abstractmethod\n",
        "  def play(self):\n",
        "    '''\n",
        "    Controls the game flow.\n",
        "    '''\n",
        "    pass\n",
        "\n",
        "  @abstractmethod\n",
        "  def removeStick(self, selection, number):\n",
        "    '''\n",
        "    Removes a stick from the pile based on selected\n",
        "    sub-pile and number of sticks to be removed.\n",
        "    '''\n",
        "    pass"
      ],
      "metadata": {
        "id": "2NXFg3TaAO1E"
      },
      "execution_count": null,
      "outputs": []
    },
    {
      "cell_type": "markdown",
      "source": [
        "# (25 pts) Implementing NimWorld!\n",
        "Well, that's basically the assignment. Create a playable nim game and implement minimax logic with alpha-beta pruning into the game! The end! Get to work!\n",
        "...Well, if you're feeling a little overwhelmed, let's go over the assignment in a more step-by-step manner and build up to all the AI stuff. Let's start off by programming the NimWorld functionality without any intelligent agent logic. You will provide the moves for both the user and computer player here!\n",
        "We will need one list named **``pile``** with two elements (two sub-piles of sticks). The first pile in our set of piles will be referenced as 0 and the second pile will be referenced as 1.\n",
        "\n"
      ],
      "metadata": {
        "id": "v1VBh6DVr1J2"
      }
    },
    {
      "cell_type": "markdown",
      "source": [
        "Here are some details for the functions we need to implement.\n",
        "\n",
        "\n",
        "* (3pts) removeStick()\n",
        "  * Removes a stick from the pile. Takes in a value representing which sub-pile the player selected, and how many sticks they selected.\n",
        "* (5pts) checkWin()\n",
        "  * Checks if someone has won the game. Returns True if someone has, and False if nobody has won the game. It doesn't matter who. ``Pile`` must be passed into this function to optimize functionality in later parts.\n",
        "* (7pts) userMove()\n",
        "  * Gets user input for the sub-pile they want to remove from, and how many sticks they want to remove from the sub-pile.\n",
        "  * Validates whether move is legal to be consistent with game rules (i.e: cannot remove from a pile that isn't 0 or 1, nor remove a number of sticks that is less than 1 or greater than the number of sticks in the pile).\n",
        "  * If the move is not legal, ask the user to input another move without switching to the next player. Keep asking until a legal value is entered.\n",
        "* (2pts) computerMove()\n",
        "  * In this part, computerMove will be exactly the same code as userMove. You can literally just call userMove() in this method! We are separating them now just to leave space for our AI logic later. Later on, the computer player will use the minimax algorithm to make its own move. For now, the user is making the computer's move.\n",
        "* (8pts) play()\n",
        "  * Loops until someone wins (checks for a win after each move by calling the checkWin() function). Remember, if on the user's turn, the board is [0,0], the computer wins! And vice versa. You need to figure out a good place to check for winning, then!\n",
        "  * Keeps track of how many rounds we have played.\n",
        "  * Keeps track of our current player.\n",
        "  * Swaps players after every round.\n",
        "\n",
        "In the space below, complete the methods!"
      ],
      "metadata": {
        "id": "bsB3bqy6gOSE"
      }
    },
    {
      "cell_type": "code",
      "source": [
        "class NimWorldBasic(NimWorldAdversarial):\n",
        "\n",
        "  def __init__(self, pile):\n",
        "    # initializes our pile\n",
        "    self.pile = pile\n",
        "\n",
        "# complete the following methods\n",
        "  def removeStick(self, selection, number):\n",
        "    '''\n",
        "    Removes stick from the pile.\n",
        "    No return.\n",
        "    '''\n",
        "    # your code here\n",
        "    self.pile[selection] -= number\n",
        "\n",
        "\n",
        "  #prompts the user to make a move, move must be valid to exit method\n",
        "  def userMove(self):\n",
        "    '''\n",
        "    Collects and validates the user's move selection (gets user input for subpile selection and number of sticks selection).\n",
        "    No return.\n",
        "    '''\n",
        "    # your code here\n",
        "    selection = int(input(\"Which pile: \"))\n",
        "    number = int(input(\"How many: \"))\n",
        "    T = False\n",
        "\n",
        "    #here is what validates the valid move\n",
        "    #meaning there can't be more from the user input to remove from the pile\n",
        "    #then is already in the pile to begin with\n",
        "    while(T == False):\n",
        "      if(selection == 1 or selection == 0 and self.pile[selection]>= number):\n",
        "        self.removeStick(selection,number)\n",
        "        T = True\n",
        "      else:\n",
        "        print(\"Invalid move go again\")\n",
        "        selection = int(input(\"Which pile: \"))\n",
        "        number = int(input(\"How many: \"))\n",
        "\n",
        "  #in this class the computerMove is just going to be the user move\n",
        "  def computerMove(self):\n",
        "    '''\n",
        "    Calls userMove(). Will be overwritten in later sections.\n",
        "    No return.\n",
        "    '''\n",
        "    # your code here\n",
        "    self.userMove()\n",
        "\n",
        "\n",
        "  #check to see if both piles are emtpy to see if the player win (returns true)\n",
        "  def checkWin(self, pile):\n",
        "      '''\n",
        "      Checks whether a player has won.\n",
        "      Returns True (someone won) or False (nobody won).\n",
        "      '''\n",
        "      # your code here\n",
        "      if(pile[0]==0 and pile[1]==0):\n",
        "        return True\n",
        "      else:\n",
        "        return False\n",
        "\n",
        "\n",
        "  #method that we call to start our game that will alternate turns between user and computer\n",
        "  def play(self):\n",
        "      '''\n",
        "      This function is called on the NimWorldBasic object to start the game.\n",
        "      We will be using this function in all our classes.\n",
        "      No return.\n",
        "      '''\n",
        "      # your code here\n",
        "      while(self.checkWin(self.pile) == False):\n",
        "        print(self.pile[0],\" \",self.pile[1])\n",
        "        print(\"User goes\")\n",
        "        self.userMove()\n",
        "        if (self.checkWin(self.pile)) == True:\n",
        "          print(\"Computer won!\")\n",
        "          return\n",
        "        print(self.pile[0],\" \",self.pile[1])\n",
        "        print(\"Computer goes\")\n",
        "        self.computerMove()\n",
        "        if(self.checkWin(self.pile)==True):\n",
        "          print(\"User won!\")\n",
        "          return\n",
        "\n",
        "\n",
        "\n",
        "\n"
      ],
      "metadata": {
        "id": "31b0-708CqGZ"
      },
      "execution_count": null,
      "outputs": []
    },
    {
      "cell_type": "markdown",
      "source": [
        "❇️TESTING ZONE❇️ Test your NimWorld game here once you're done implementing the class for this section. Uncomment the following code and see if it works. Test your code with different piles of sticks!"
      ],
      "metadata": {
        "id": "bkRlb_pY-3Vc"
      }
    },
    {
      "cell_type": "code",
      "source": [
        "\n",
        "# we are passing a pile into the game that includes two sub-piles of 4 and 5 sticks.\n",
        "nimBasic = NimWorldBasic([4, 5])\n",
        "nimBasic.play()"
      ],
      "metadata": {
        "id": "nI4va1jyEvwd",
        "outputId": "3e9e58a7-05db-4662-fcbd-569945f777ad",
        "colab": {
          "base_uri": "https://localhost:8080/"
        }
      },
      "execution_count": 37,
      "outputs": [
        {
          "output_type": "stream",
          "name": "stdout",
          "text": [
            "4   5\n",
            "User goes\n",
            "Which pile: 0\n",
            "How many: 2\n",
            "2   5\n",
            "Computer goes\n",
            "Which pile: 1\n",
            "How many: 3\n",
            "2   2\n",
            "User goes\n",
            "Which pile: 1\n",
            "How many: 2\n",
            "2   0\n",
            "Computer goes\n",
            "Which pile: 0\n",
            "How many: 5\n",
            "Invalid move go again\n",
            "Which pile: 0\n",
            "How many: 1\n",
            "1   0\n",
            "User goes\n",
            "Which pile: 0\n",
            "How many: 1\n",
            "Computer won!\n"
          ]
        }
      ]
    },
    {
      "cell_type": "markdown",
      "source": [
        "Below, we have an example of a running game! [You can also view a recording of a test run here.](https://drive.google.com/file/d/1ZEpmhJlZwvWzINlIOqUTP2ZyjLQVmxXq/view?usp=drive_link) Watch how we handle the user making a last-ditch effort to cheat to avoid losing! While you don't need to have exactly the same output, the way the computer responds to users moves should be conceptually similar. Make sure you can make both the computer and the user win! See how the logic behaves."
      ],
      "metadata": {
        "id": "Uaw0kCVOAdGO"
      }
    },
    {
      "cell_type": "markdown",
      "source": [
        "![basicGameplay.png](data:image/png;base64,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)"
      ],
      "metadata": {
        "id": "8_Y7PEOp5BZ1"
      }
    },
    {
      "cell_type": "markdown",
      "source": [
        "# (40pts) NimWorld Minimax Algorithm\n",
        "Okay, we have one part out of the way. Now, time to implement the AI logic. Specifically, the minimax algorithm! We will create a new subclass called NimWorldMinimax to implement it. We will be using all of the methods from NimWorldBasic, but we will be overwriting the computerMove() function to automate the computer's move, and we will be implementing the minimax algorithm in the minimax() function.\n",
        "\n",
        "In the cell below, you will see a description/overview of the two methods' functionalities."
      ],
      "metadata": {
        "id": "7gIv1y2SwwiV"
      }
    },
    {
      "cell_type": "markdown",
      "source": [
        "* (15pts) computerMove():\n",
        "\n",
        "  * This method selects the computer's next move based on the user's move by iterating through all the moves the computer can possibly make from that state. You're going to need to think about how we can represent that! We have to iterate through the two sub-piles in the ``pile``...\n",
        "  * This method simulates each possible move and calls the minimax() function on those moves to evaluate the outcome for the move.\n",
        "  * Selects the move that leads to success once we tried our options.\n",
        "  * Keeps track of best score and best move! (Maybe in a tuple?)\n",
        "  * Remember, lists are passed by reference! Make sure you are copying the pile properly, maybe using ``pile[:]``\n",
        "  * Actually makes computer's move.\n",
        "* (25pts) minimax():\n",
        "  * Explores all possible moves from the computer's move.\n",
        "  * Returns a score (1 or -1) for the current move to determine whether it is a favorable outcome for the computer's turn.\n",
        "  * Includes a recursive call to minimax().\n",
        "  * Reference your minimax pseudocode for this! What do you do if the player is maximizing? Minimizing?"
      ],
      "metadata": {
        "id": "5jtPaoIhTPfT"
      }
    },
    {
      "cell_type": "code",
      "source": [
        "class NimWorldMinimax(NimWorldBasic):\n",
        "\n",
        "  #represents the computerMove using the minimax algorithm\n",
        "  def computerMove(self):\n",
        "    '''\n",
        "    Overwrites NimWorldBasic's computerMove() function to allow\n",
        "    the computer player to autonomously select its next move.\n",
        "    No return.\n",
        "    '''\n",
        "\n",
        "    bestMove = None\n",
        "\n",
        "    #this representing negative infitity for our alpha value so that any number will replace it\n",
        "    alpha = -float(\"inf\")\n",
        "\n",
        "    #loop through both of our piles (subpiles)\n",
        "    for subPile in range(2):\n",
        "\n",
        "      #loop through each stick in the current subPile we are in\n",
        "      for numberSticks in range(1, self.pile[subPile] + 1):\n",
        "\n",
        "        currentPile = self.pile[:]\n",
        "        currentPile[subPile] -= numberSticks\n",
        "        score = self.minimax(currentPile, False)\n",
        "\n",
        "        #if our new score generated is greater then our alpha\n",
        "        #it will be our new alpha value\n",
        "        if score > alpha:\n",
        "            alpha = score\n",
        "            bestMove = (subPile, numberSticks)\n",
        "\n",
        "    #remove sticks of minmax best move\n",
        "    self.removeStick(bestMove[0], bestMove[1])\n",
        "\n",
        "\n",
        "  def minimax(self, pile, isMaximizing):\n",
        "      '''\n",
        "      Implements the minimax logic.\n",
        "      Returns 1 or -1.\n",
        "      '''\n",
        "      # your code here\n",
        "\n",
        "      #check if the current state is a winning \"state\"\n",
        "      if self.checkWin(pile):\n",
        "        #return 1 if we are on the max level\n",
        "        if isMaximizing:\n",
        "          return 1\n",
        "        #return -1 if we are on the min level\n",
        "        else:\n",
        "          return -1\n",
        "\n",
        "      if isMaximizing:\n",
        "        #this representing negative infitity for our alpha value so that any number will replace it\n",
        "        alpha = -float(\"inf\")\n",
        "        #loop through both of our piles (subpiles)\n",
        "        for subPile in range(2):\n",
        "          #loop through each stick in the current subPile we are in\n",
        "          for numSticks in range(1, pile[subPile]+1):\n",
        "            #create a copy of pile with our current pile\n",
        "            currentPile = pile[:]\n",
        "            #subtract current sticks we are on through our loop from pile\n",
        "            currentPile[subPile] -= numSticks\n",
        "            score = self.minimax(currentPile, False)\n",
        "\n",
        "            if(score>alpha):\n",
        "              alpha = score\n",
        "        return alpha\n",
        "\n",
        "      else:\n",
        "        #this representing infitity for our beta value so that any number will replace it\n",
        "        beta = float(\"inf\")\n",
        "        #loop through both of our piles (subpiles)\n",
        "        for subPile in range(2):\n",
        "          #loop through each stick in the current subPile we are in\n",
        "          for numSticks in range(1, pile[subPile]+1):\n",
        "            #create a copy of pile with our current pile\n",
        "            currentPile = pile[:]\n",
        "            #subtract current sticks we are on through our loop from pile\n",
        "            currentPile[subPile] -= numSticks\n",
        "            score = self.minimax(currentPile, True)\n",
        "\n",
        "            if (score<beta):\n",
        "              beta = score\n",
        "\n",
        "        return beta\n",
        "\n",
        "\n"
      ],
      "metadata": {
        "id": "Qh39w6bpIus0"
      },
      "execution_count": 28,
      "outputs": []
    },
    {
      "cell_type": "markdown",
      "source": [
        "❇️TESTING ZONE❇️ Test your NimWorld game here once you're done implementing the class for this section. Uncomment the following code and see if it works. Test your code with different piles of sticks!"
      ],
      "metadata": {
        "id": "8N2Hn9fAwcHZ"
      }
    },
    {
      "cell_type": "code",
      "source": [
        "nimMin = NimWorldMinimax([10, 7])\n",
        "nimMin.play()"
      ],
      "metadata": {
        "id": "dOFcI3yFKVtu",
        "colab": {
          "base_uri": "https://localhost:8080/"
        },
        "outputId": "b40b1ac0-45a9-4ed5-c04d-781751330cae"
      },
      "execution_count": 32,
      "outputs": [
        {
          "output_type": "stream",
          "name": "stdout",
          "text": [
            "10   7\n",
            "User goes\n",
            "Which pile: 0\n",
            "How many: 5\n",
            "5   7\n",
            "Computer goes\n",
            "5   5\n",
            "User goes\n",
            "Which pile: 1\n",
            "How many: 4\n",
            "5   1\n",
            "Computer goes\n",
            "0   1\n",
            "User goes\n",
            "Which pile: 1\n",
            "How many: 1\n",
            "Computer won!\n"
          ]
        }
      ]
    },
    {
      "cell_type": "markdown",
      "source": [
        "Here's an example of a sample run below! While you don't need to have exactly the same output, the way the computer responds to users moves should be conceptually similar. The computer should be making intelligent moves to ensure you're left with the last stick!"
      ],
      "metadata": {
        "id": "3C3v9yZjASbE"
      }
    },
    {
      "cell_type": "markdown",
      "source": [
        "![nimMinImplementation.png](data:image/png;base64,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)"
      ],
      "metadata": {
        "id": "gzY8I--q-gUa"
      }
    },
    {
      "cell_type": "markdown",
      "source": [
        "# (35pts) NimWorld Minimax Algorithm Alpha-Beta Pruning\n",
        "\n",
        "Look at that. We implemented the logic for our adversarial agent! Woo-hoo. We can still optimize our algorithm, however. One method to do so is alpha-beta pruning! That way, we don't have to go down certain branches of the game, saving us time, though not really affecting the output. For this exercise, we will be implementing the subclass NimWorldABMinimax. We will be inheriting methods from the NimWorldMinimax class, but we need to override the minimax() and computerMove() methods (really making only minor changes) to implement alpha-beta pruning. Let's see what you can come up with!\n",
        "\n",
        "* (25pts) AB Pruning minimax() implementation\n",
        "* (10pts) AB Pruning computerMove() modification\n"
      ],
      "metadata": {
        "id": "DKZVnqFNNQMc"
      }
    },
    {
      "cell_type": "code",
      "source": [
        "class NimWorldABMinimax(NimWorldMinimax):\n",
        "    def computerMove(self):\n",
        "        '''\n",
        "        Overwrites NimWorldMinimax's computerMove() function to allow\n",
        "        the computer player to autonomously select its next move using\n",
        "        alpha-beta pruning.\n",
        "        No return.\n",
        "        '''\n",
        "        # your code here\n",
        "        bestMove = None\n",
        "        #this representing negative infitity for our alpha value so that any number will replace it\n",
        "        alpha = -float(\"inf\")\n",
        "        #this representing infitity for our beta value so that any number will replace it\n",
        "        beta = float(\"inf\")\n",
        "\n",
        "        #loop through each pile\n",
        "        for subPile in range(2):\n",
        "          #loop through each stick remaining in each subPile\n",
        "            for numberSticks in range(1, self.pile[subPile] + 1):\n",
        "                currentPile = self.pile[:]\n",
        "                currentPile[subPile] -= numberSticks\n",
        "                #get our score through calling the minimax function\n",
        "                score = self.minimax(currentPile, False, alpha, beta)\n",
        "\n",
        "                if score > alpha:\n",
        "                    alpha = score\n",
        "                    bestMove = (subPile, numberSticks)\n",
        "\n",
        "                #where the actual pruning takes place if a >= b\n",
        "                if alpha >= beta:\n",
        "                    break\n",
        "\n",
        "        self.removeStick(bestMove[0], bestMove[1])\n",
        "\n",
        "    def minimax(self, pile, isMaximizing, alpha, beta):\n",
        "        '''\n",
        "        Implements the minimax logic with alpha-beta pruning.\n",
        "        Returns 1 or -1.\n",
        "        '''\n",
        "        # your code here\n",
        "        if self.checkWin(pile):\n",
        "            if isMaximizing:\n",
        "                return 1\n",
        "            else:\n",
        "                return -1\n",
        "\n",
        "        if isMaximizing:\n",
        "            bestScore = -float(\"inf\")\n",
        "            for subPile in range(2):\n",
        "                for numSticks in range(1, pile[subPile] + 1):\n",
        "                    #assign a copy of pile to our currentPile\n",
        "                    currentPile = pile[:]\n",
        "                    currentPile[subPile] -= numSticks\n",
        "                    score = self.minimax(currentPile, False, alpha, beta)\n",
        "\n",
        "                    #since were maximizing at this point we will\n",
        "                    #take the lowest of our bestScore and current score\n",
        "                    bestScore = max(bestScore, score)\n",
        "                    alpha = max(alpha, bestScore)\n",
        "\n",
        "                    #where the actual pruning takes place if a >= b\n",
        "                    if alpha >= beta:\n",
        "                        break\n",
        "\n",
        "            return bestScore\n",
        "\n",
        "        else:\n",
        "            bestScore = float(\"inf\")\n",
        "            for subPile in range(2):\n",
        "                for numSticks in range(1, pile[subPile] + 1):\n",
        "                    currentPile = pile[:]\n",
        "                    currentPile[subPile] -= numSticks\n",
        "                    score = self.minimax(currentPile, True, alpha, beta)\n",
        "\n",
        "                    #since were minimizing at this point we will\n",
        "                    #take the lowest of our bestScore and current score\n",
        "                    bestScore = min(bestScore, score)\n",
        "                    beta = min(beta, bestScore)\n",
        "\n",
        "                    #where the actual pruning takes place if a >= b\n",
        "                    if alpha >= beta:\n",
        "                        break\n",
        "\n",
        "            return bestScore\n",
        "\n",
        "\n",
        "\n"
      ],
      "metadata": {
        "id": "fHagdeCRPtUf"
      },
      "execution_count": 33,
      "outputs": []
    },
    {
      "cell_type": "markdown",
      "source": [
        "❇️TESTING ZONE❇️ Test your NimWorld game here once you're done implementing the class for this section. Uncomment the following code and see if it works. Test your code with different numbers of sticks!"
      ],
      "metadata": {
        "id": "XxFnH379_An1"
      }
    },
    {
      "cell_type": "code",
      "source": [
        "nimAB = NimWorldABMinimax([11, 3])\n",
        "nimAB.play()"
      ],
      "metadata": {
        "id": "GZW4m9wlP9ae",
        "colab": {
          "base_uri": "https://localhost:8080/"
        },
        "outputId": "e947c850-72be-4687-b203-6fbd2a69544d"
      },
      "execution_count": 34,
      "outputs": [
        {
          "output_type": "stream",
          "name": "stdout",
          "text": [
            "11   3\n",
            "User goes\n",
            "Which pile: 1\n",
            "How many: 2\n",
            "11   1\n",
            "Computer goes\n",
            "0   1\n",
            "User goes\n",
            "Which pile: 1\n",
            "How many: 1\n",
            "Computer won!\n"
          ]
        }
      ]
    },
    {
      "cell_type": "markdown",
      "source": [
        "Here's an example of a sample run below! While you don't need to have exactly the same output, the way the computer responds to users moves should be conceptually similar. The computer should be making intelligent moves to ensure you're left with the last stick!"
      ],
      "metadata": {
        "id": "v05d0a-k_7rU"
      }
    },
    {
      "cell_type": "markdown",
      "source": [
        "![ABSearch.png](data:image/png;base64,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)"
      ],
      "metadata": {
        "id": "tnJOyBPn_0bk"
      }
    },
    {
      "cell_type": "markdown",
      "source": [
        "# Need help? 😞 Here's some resources! 🔎 💡\n",
        "\n",
        "I get it, implementing these algorithms can be tricky.\n",
        "\n",
        "Minimax behaves recursively, like common implementations of depth-first search, so if you are having difficulty wrapping your head around how it works, then please go back to that! Maybe [this video can help](https://www.youtube.com/watch?v=-LfSbp_6r7c&t=15s).\n",
        "\n",
        "Want to learn more about minimax? Make sure you have gone through the textbook assignment and [the video for the Adversarial Search module](https://https://uncc.instructure.com/courses/199021/pages/videos-adversarial-search?module_item_id=5500133)! It's very helpful in explaining the intuition behind minimax and alpha-beta pruning. If you would like another explanation, you can also [take a look at this video](https://www.youtube.com/watch?v=l-hh51ncgDI&list=PLIt4aZ9Zq3EB9gj0aTMvz0EOEbBU50L6I&index=106&t=315s&ab_channel=SebastianLague), which provides an easy-to-understand explanation and easy-to-read pseudocode alongside a detailed example. It also explains both the normal minimax algorithm and the alpha-beta pruning variation!\n",
        "\n",
        "This video series below series gives a full code implementation of a tic-tac-toe implementation of the minimax() algorithm! Its implementation is quite similar to what you need to do for this assignment, so it may be helpful to take a look at.\n",
        "\n",
        "Tic-Tac-Toe [Part 1](https://www.youtube.com/watch?v=JC1QsLOXp-I&list=PLIt4aZ9Zq3EB9gj0aTMvz0EOEbBU50L6I&index=106&ab_channel=JavaCodingCommunity-ProgrammingTutorials)\n",
        "\n",
        "Tic-Tac-Toe [Part 2](https://https://www.youtube.com/watch?v=2Tr8LkyU78c&list=PLIt4aZ9Zq3EB9gj0aTMvz0EOEbBU50L6I&index=105&ab_channel=JavaCodingCommunity-ProgrammingTutorials)"
      ],
      "metadata": {
        "id": "zB_83jCg1DEW"
      }
    }
  ]
}